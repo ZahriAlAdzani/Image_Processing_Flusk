{
 "cells": [
  {
   "cell_type": "code",
   "execution_count": 11,
   "metadata": {},
   "outputs": [],
   "source": [
    "from PIL import Image, ImageFilter\n",
    "\n",
    "def puzzle(size):\n",
    "        # Open the image\n",
    "        image = Image.open('static/images/img_now.jpg')\n",
    "\n",
    "        # Get the width and height of the image\n",
    "        width, height = image.size\n",
    "\n",
    "        # Calculate the dimensions for each quarter\n",
    "        quarter_width = width // size\n",
    "        quarter_height = height // size\n",
    "\n",
    "        # Crop and save each quarter\n",
    "        for i in range(size):\n",
    "            for j in range(size):\n",
    "                left = i * quarter_width\n",
    "                upper = j * quarter_height\n",
    "                right = left + quarter_width\n",
    "                lower = upper + quarter_height\n",
    "\n",
    "                # Crop the quarter\n",
    "                quarter = image.crop((left, upper, right, lower))\n",
    "\n",
    "                # Save the cropped quarter\n",
    "                quarter.save(f\"{'static/temp/puzzle/image'}_quarter_{i}_{j}.jpg\")\n",
    "\n"
   ]
  },
  {
   "cell_type": "code",
   "execution_count": 12,
   "metadata": {},
   "outputs": [],
   "source": [
    "puzzle(2)"
   ]
  }
 ],
 "metadata": {
  "kernelspec": {
   "display_name": "ImageCaptioning",
   "language": "python",
   "name": "python3"
  },
  "language_info": {
   "codemirror_mode": {
    "name": "ipython",
    "version": 3
   },
   "file_extension": ".py",
   "mimetype": "text/x-python",
   "name": "python",
   "nbconvert_exporter": "python",
   "pygments_lexer": "ipython3",
   "version": "3.9.17"
  },
  "orig_nbformat": 4
 },
 "nbformat": 4,
 "nbformat_minor": 2
}
